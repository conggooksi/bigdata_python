{
 "cells": [
  {
   "cell_type": "markdown",
   "id": "cf1cf796-60da-44af-b5dd-7b1d5cf3aff1",
   "metadata": {
    "tags": []
   },
   "source": [
    "# 마크다운markdown\n",
    "* 주피터 노트북등에 문서 작성시 내용전달시 이해하기 쉽도록 추가적으로 작성하는 꾸밈 문장을 마크다운을 이용해서 작성함\n",
    "* 이러한 종류의 문서는 보통 .md라는 확장자를 가짐\n",
    "* 간단하고 단순한 문법으로 html 기반 문서를 손쉽게 작성하게 해주기 때문에 익혀두면 유용함\n",
    "* 또한 복잡한 수식도 화려하게 작성할 수도 있음"
   ]
  },
  {
   "cell_type": "markdown",
   "id": "4c4519ef-0190-40d2-9222-63be84956e67",
   "metadata": {},
   "source": [
    "  1. 텍스트 기반의 마크업언어로 2004년 존그루버에 의해 만들어졌으며 쉽게 쓰고 읽을 수 있으며 HTML로 변환이 가능 \n",
    "  2. 특수기호와 문자를 이용한 매우 간단한 구조의 문법을 사용하여 웹에서도 보다 빠르게 컨텐츠를 작성하고 보다 직관적으로 인식할 수 있음\n",
    "  3. 마크다운이 최근 각광받기 시작한 이유는 github 덕분임 \n",
    "  4. 깃헙의 저장소Repository에 관한 정보를 기록하는 README.md는 깃헙을 사용하는 사람이라면 누구나 가장 먼저 접하게 되는 마크다운 문서였음\n",
    "  5. 이 문서를 통해서 설치방법, 소스코드 설명, 이슈 등을 간단하게 기록하고 가독성을 높일 수 있다는 강점이 부각되면서 점점 여러 곳으로 퍼져가게 되었음"
   ]
  },
  {
   "cell_type": "markdown",
   "id": "9a9b950a-9f27-4c96-8f24-b2f667fd97e4",
   "metadata": {},
   "source": [
    "# 마크다운의 장-단점\n",
    "## 장점\n",
    "1. 간결하다.\n",
    "2. 별도의 도구없이 작성가능하다.\n",
    "3. 다양한 형태로 변환이 가능하다.\n",
    "3. 텍스트(Text)로 저장되기 때문에 용량이 적어 보관이 용이하다.\n",
    "4. 텍스트파일이기 때문에 버전관리시스템을 이용하여 변경이력을 관리할 수 있다.\n",
    "5. 지원하는 프로그램과 플랫폼이 다양하다.\n",
    "\n",
    "## 단점\n",
    "1. 표준이 없다.\n",
    "2. 표준이 없기 때문에 도구에 따라서 변환방식이나 생성물이 다르다.\n",
    "3. 모든 HTML 마크업을 대신하지 못한다."
   ]
  },
  {
   "cell_type": "markdown",
   "id": "238fd922-9f7d-4bec-9ae7-9265f4e4feac",
   "metadata": {},
   "source": [
    "# 제목작성\n",
    "* 제목을 작성할때는 #을 사용**\n",
    "\n",
    "# 제목 1\n",
    "## 제목 2\n",
    "### 제목 3\n",
    "#### 제목 4\n",
    "##### 제목 5"
   ]
  },
  {
   "cell_type": "markdown",
   "id": "120a3992-c84a-4549-9365-50de10c8124f",
   "metadata": {},
   "source": [
    "# 문장꾸미기\n",
    "* 문장꾸미기에는 **, __, ~~ 등이 사용된다\n",
    "* 줄바꿈은 스페이스바 2번 입력\n",
    "* **진하게** 표시하려면 * 사용\n",
    "* __진하게__ 표시하려면 __ 사용\n",
    "* _기울어진 글씨_ 를 표시하려면 _ 사용\n",
    "* ~~취소선~~은 ~로 이용함"
   ]
  },
  {
   "cell_type": "markdown",
   "id": "04ee2f2c-1102-4f59-93d4-87cc48f1e5c8",
   "metadata": {},
   "source": [
    "# 구분선\n",
    "* 구분선을 그을려면 -를 여러번 작성하면 됨  \n",
    "---"
   ]
  },
  {
   "cell_type": "markdown",
   "id": "ea07cf6d-5969-4937-9b89-44c93110ed04",
   "metadata": {},
   "source": [
    "# 인용구\n",
    "* 인용구를 입력하려면 > 를 사용함\n",
    "> 시간은 금이라구, 친구!!"
   ]
  },
  {
   "cell_type": "markdown",
   "id": "15aab04f-b6c4-49b0-bb1c-2e2e8c1b17c8",
   "metadata": {},
   "source": [
    "# 순서 있는 목록\n",
    "* 순서있는 목록을 만들려면 항목앞에 숫자를 작성한다\n",
    "\n",
    "## 좋아하는 게임들\n",
    "1. 디아블로 4\n",
    "2. 월드오브워크래프트\n",
    "3. 스타크래프트\n",
    "4. 롤"
   ]
  },
  {
   "cell_type": "markdown",
   "id": "5fad48ac-6697-4742-a92d-2e4d1c05247f",
   "metadata": {},
   "source": [
    "# 순서없는 목록\n",
    "* 순서없는 목록을 만들려면 항목앞에 *,+,-를 작성한다\n",
    "* 단, 목록에 들여쓰기를 적용하려면 탭을 사용함\n",
    "\n",
    "## 좋아하는 게임들\n",
    "+ 디아블로 4\n",
    "+ 월드오브워크래프트\n",
    "+ 스타크래프트\n",
    "+ 롤"
   ]
  },
  {
   "cell_type": "markdown",
   "id": "8d75c736-d6d4-4b93-9f32-a72779b05edf",
   "metadata": {},
   "source": [
    "## 좋아하는 음식\n",
    "* 분식\n",
    "    + 라면\n",
    "    + 김밥\n",
    "    +떡국\n",
    "* 양식\n",
    "    - 돈까스\n",
    "    -오무라이스\n",
    "* 한식"
   ]
  },
  {
   "cell_type": "markdown",
   "id": "aea8560f-94e0-4473-88b0-47627284432d",
   "metadata": {},
   "source": [
    "# 링크\n",
    "+ `[링크텍스트](링크URL)`로 링크를 생성할 수 있음\n",
    "+ [네이버로](http://naver.co.kr)\n",
    "+[구글로](http://google.co.kr)"
   ]
  },
  {
   "cell_type": "markdown",
   "id": "27dd90c0-8718-4b1c-9081-9293047f7a95",
   "metadata": {},
   "source": [
    "# 이미지\n",
    "* `![그림설명](그림주소)로 그림을 나타낼 수 있음`\n",
    "+ ~~이미지 크기를 변경하려면 \n",
    "  {: width=가로크기, height=세로크기}를 추가해 줌~~\n",
    "+ 간단하게 img태그를 사용해서 이미지를 나타낼수도 있음(크기변경가능)"
   ]
  },
  {
   "cell_type": "markdown",
   "id": "0fb4530b-3581-4f27-b7b6-e4144f4cf3ae",
   "metadata": {},
   "source": [
    "![농구꿈나무 박선영](박선영.jpg)"
   ]
  },
  {
   "cell_type": "markdown",
   "id": "5b85fdaa-2249-4c61-b633-54aaf2b4b232",
   "metadata": {},
   "source": [
    "<img alt='수지뽀뽀' src='https://file.thisisgame.com/upload/tboard/user/2013/01/25/20130125181216_6417.jpg' width='200px' height='200px' />"
   ]
  },
  {
   "cell_type": "markdown",
   "id": "4bf02a39-07f6-414f-9822-0c0feecf513c",
   "metadata": {},
   "source": [
    "# 테이블\n",
    "+ 데이터와 |, -- 문자를 이용함\n",
    "+ 정렬을 하려면 : 을 이용함"
   ]
  },
  {
   "cell_type": "markdown",
   "id": "5838c2c6-b87a-4011-b279-57212bb5d273",
   "metadata": {},
   "source": [
    "|이름|국어|영어|수학|\n",
    "|---|---|---|---|\n",
    "|수지|99|98|99|\n",
    "|지현|55|66|77|"
   ]
  },
  {
   "cell_type": "markdown",
   "id": "923d7a95-39f2-4cc5-bc55-636985e9de78",
   "metadata": {},
   "source": [
    "# 수식\n",
    "+ 수학식은 $기호를 이용해서 표현 가능\n",
    "+ 수학식은 LateX 문법을 따름"
   ]
  },
  {
   "cell_type": "markdown",
   "id": "41b6cf4e-3fc7-422c-ba9f-691fcd669eae",
   "metadata": {},
   "source": [
    "$ a^2 = b^2 + c^2 $"
   ]
  },
  {
   "cell_type": "markdown",
   "id": "9116df76-0e94-4fda-b068-f043fb114418",
   "metadata": {},
   "source": [
    "* $ ax^2 + bx + c = 0 $\n",
    "* $$ x = {{-b \\pm \\sqrt{b^2 - 4ac}} \\over 2a} $$"
   ]
  },
  {
   "cell_type": "markdown",
   "id": "16347aa2-19b9-4ef5-80ba-97baf05f6af8",
   "metadata": {},
   "source": [
    "# 코드블럭\n",
    "* ` ``` 프로그래밍 코드 ``` ` 형태로 작성함\n",
    "* 마크다운을 실행하는 프로그램이나 플랫폼에 따라 코드 컬러링이 지원되기도 함"
   ]
  },
  {
   "cell_type": "markdown",
   "id": "818da717-c3ff-4fd4-b7f4-f8e76340b574",
   "metadata": {},
   "source": [
    "```\n",
    "public static void main(String[] args) {\n",
    "    System.out.print(\"Hello, World!!\");\n",
    "}\n",
    "```"
   ]
  }
 ],
 "metadata": {
  "kernelspec": {
   "display_name": "Python 3",
   "language": "python",
   "name": "python3"
  },
  "language_info": {
   "codemirror_mode": {
    "name": "ipython",
    "version": 3
   },
   "file_extension": ".py",
   "mimetype": "text/x-python",
   "name": "python",
   "nbconvert_exporter": "python",
   "pygments_lexer": "ipython3",
   "version": "3.8.12"
  }
 },
 "nbformat": 4,
 "nbformat_minor": 5
}
